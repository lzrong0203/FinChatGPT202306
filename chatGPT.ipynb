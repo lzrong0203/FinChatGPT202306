{
 "cells": [
  {
   "cell_type": "markdown",
   "id": "a3c59825",
   "metadata": {},
   "source": [
    "## OpenAI 環境設定\n",
    "\n",
    "- 註冊 OpenAI 帳號\n",
    "- 設定 api_key"
   ]
  },
  {
   "cell_type": "code",
   "execution_count": null,
   "id": "466a4a60",
   "metadata": {},
   "outputs": [],
   "source": [
    "import os\n",
    "import openai\n",
    "\n",
    "openai.api_key = os.getenv(\"OPENAI_API_KEY\")\n",
    "# openai.api_key = \"sk-XXXXXXXXXXXXXXXXXXXXXXXXX\""
   ]
  },
  {
   "cell_type": "markdown",
   "id": "1be9270d",
   "metadata": {},
   "source": [
    "### GPT3\n",
    "\n",
    "- 如需要較完整或是較長回覆，需要設定max_tokens"
   ]
  },
  {
   "cell_type": "code",
   "execution_count": null,
   "id": "c89d4e31",
   "metadata": {},
   "outputs": [],
   "source": [
    "prompt = \"哈囉你好，我是Steve\"\n",
    "response = openai.Completion.create(\n",
    "  model=\"text-davinci-003\",\n",
    "  prompt=f\"{prompt}\",\n",
    "  max_tokens=256,  # default: 16\n",
    ")\n",
    "print(response)"
   ]
  },
  {
   "cell_type": "markdown",
   "id": "c0086135",
   "metadata": {},
   "source": [
    "### GPT-3.5\n",
    "\n",
    "- 需要給 messages\n",
    "\n",
    "<code>role: 為不同角色，user 為使用者，system 為跟系統說明目的為何，assistant 為聊天機器人對象\n",
    "<code>content: 為訊息內容\n",
    "- temperature 為結果確定性（是否有創造力）"
   ]
  },
  {
   "cell_type": "code",
   "execution_count": null,
   "id": "3390791e",
   "metadata": {},
   "outputs": [],
   "source": [
    "prompt = \"哈囉你好，我是Steve\"\n",
    "messages = [{\"role\": \"user\", \"content\": prompt}]\n",
    "response = openai.ChatCompletion.create(\n",
    "            model=\"gpt-3.5-turbo\",\n",
    "            messages=messages,\n",
    "            temperature=0\n",
    "        )\n",
    "print(response)\n",
    "response.choices[0].message[\"content\"]"
   ]
  },
  {
   "cell_type": "markdown",
   "id": "a926b565",
   "metadata": {},
   "source": [
    "## PTT 爬蟲\n",
    "\n",
    "- 平行化"
   ]
  },
  {
   "cell_type": "code",
   "execution_count": null,
   "id": "4542d5e5",
   "metadata": {},
   "outputs": [],
   "source": [
    "from PTTScraper import PTTScraper\n",
    "import pandas as pd\n",
    "\n",
    "scraper = PTTScraper()\n",
    "data = scraper.get_data_until(\"6/6\", max_posts=200)\n",
    "df = pd.DataFrame(data)"
   ]
  },
  {
   "cell_type": "markdown",
   "id": "7a4a9078",
   "metadata": {},
   "source": [
    "## Prompt 設定"
   ]
  },
  {
   "cell_type": "code",
   "execution_count": null,
   "id": "fdae9c56",
   "metadata": {},
   "outputs": [],
   "source": [
    "def sentiment_prompt(chat):\n",
    "    return f\"\"\"\n",
    "    Analyze the sentiment of the following stock market chat.\n",
    "    Chat text is enclosed within angle brackets.\n",
    "    Your answer is a single word, either \"positive\" or \"negative\" or \"neutral\". \n",
    "    If stock market target is not mentioned in the chat set the sentiment answer to \"neutral\", \n",
    "    otherwise, please list it in chinese, stock code or code name.\n",
    "    \n",
    "    Provide above answers in JSON format with keys, respectively:\n",
    "    sentiment, stock_target.\n",
    "    And Follow the format:\n",
    "    \n",
    "    {{\"sentiment\":..., \"stock_target\":...}}\n",
    "    \n",
    "    Stock_market_chat text: <{chat}>\n",
    "    \"\"\"\n",
    "\n",
    "def sentiment_prompt_chinese(chat):\n",
    "    return f'''\n",
    "    在一組\"<>\"中是一篇股票相關的發文與回覆推文，請對這篇文章進行情緒分析。\n",
    "    Your answer is a single word, either \"positive\" or \"negative\" or \"neutral\".\n",
    "    如果該情緒分析與標的有關，請列出開標的股票名稱、股票代號或是暱稱。\n",
    "    如果該情緒分析是針對整個市場，顯示為\"Market\"，如都沒有則顯示\"null\"。\n",
    "    \n",
    "    Provide above sentiment result and stock target answers in JSON format with keys, respectively:\n",
    "    sentiment, stock_target.\n",
    "    And Follow the format:\n",
    "    \n",
    "    {{\"sentiment\":..., \"stock_target\":... }}\n",
    "    \n",
    "    Stock_market_chat text: <{chat}>\n",
    "    '''\n",
    "\n",
    "def get_completion(prompt, model=\"gpt-3.5-turbo\"):\n",
    "    \n",
    "    prompt = sentiment_prompt(prompt)\n",
    "    messages = [{\"role\": \"user\", \"content\": prompt}]\n",
    "    if model == \"gpt-3.5-turbo\":\n",
    "        response = openai.ChatCompletion.create(\n",
    "            model=model,\n",
    "            messages=messages,\n",
    "            temperature=0\n",
    "        )\n",
    "        return response.choices[0].message[\"content\"]\n",
    "    else:\n",
    "        response = openai.Completion.create(\n",
    "            model=\"text-davinci-003\",\n",
    "            prompt=prompt\n",
    "        )\n",
    "    return response.choices[0].text\n",
    "\n",
    "prompts = list(map(sentiment_prompt_chinese, df.Content[:10]))\n",
    "prompts"
   ]
  },
  {
   "cell_type": "code",
   "execution_count": null,
   "id": "b611258f",
   "metadata": {},
   "outputs": [],
   "source": [
    "review = \"今天的台積電要起飛了\"\n",
    "\n",
    "def sentiment_prompt(review):\n",
    "    return f\"\"\"\n",
    "在雙引號中的金融評論，針對的'標的'以及'情緒'是什麼?\n",
    "並同時說明，是哪些'文字'，來判斷最後的情緒結果。\n",
    "\n",
    "用'正面'、'中性'或'負面'來表示情緒。\n",
    "\n",
    "金融評論：\"{review}\"\n",
    "\"\"\"\n",
    "\n",
    "prompt = sentiment_prompt(review)\n",
    "print(get_completion(prompt))"
   ]
  },
  {
   "cell_type": "markdown",
   "id": "a5d1ea5e",
   "metadata": {},
   "source": [
    "## 計算 tokens 與估算花費\n",
    "\n",
    "- GPT-3.5 為 1K tokens \\$0.002\n",
    "- GPT-3.0 的 Davinci 為 1K tokens \\$0.02\n",
    "- GPT-3.0 的 Curie 為 1K tokens \\$0.002\n",
    "\n",
    "GPT-3.0 可自行訓練，然而3.5無法，3.5 的結果可以逼近訓練過後的 3.5"
   ]
  },
  {
   "cell_type": "code",
   "execution_count": null,
   "id": "4135753d",
   "metadata": {},
   "outputs": [],
   "source": [
    "import tiktoken\n",
    "import requests\n",
    "import json\n",
    "\n",
    "\n",
    "def num_tokens_from_string(string):\n",
    "    \"\"\"Returns the number of tokens in a text string.\"\"\"\n",
    "    encoding = tiktoken.encoding_for_model(\"gpt-3.5-turbo\")\n",
    "    num_tokens = len(encoding.encode(string))\n",
    "    return num_tokens\n",
    "\n",
    "paid = 0\n",
    "for prompt in prompts:\n",
    "    tokens_per_message = 4\n",
    "    tokens = num_tokens_from_string(prompt) + tokens_per_message\n",
    "    print(tokens)\n",
    "    r = requests.get(\"https://api.exchangerate-api.com/v4/latest/USD\")\n",
    "    tw_us_rate = json.loads(r.text)[\"rates\"][\"TWD\"]\n",
    "    paids_in_tw = tokens / 1000 * 0.002 * tw_us_rate\n",
    "    paid += paids_in_tw\n",
    "print(paid)"
   ]
  },
  {
   "cell_type": "code",
   "execution_count": null,
   "id": "38f3ecb6",
   "metadata": {},
   "outputs": [],
   "source": []
  },
  {
   "cell_type": "code",
   "execution_count": null,
   "id": "8654a963",
   "metadata": {},
   "outputs": [],
   "source": [
    "stock_market_chat = [\"今天的台積電要起飛了\", \"0050 帶頭衝衝衝\", \"發哥今天是不是軟軟的\"]\n",
    "\n",
    "def sentiment_three_prompt(stock_market_chat):\n",
    "    return f\"\"\"\n",
    "    Analyze the sentiment of the following stock market chats.\n",
    "    Each chat is enclosed within angle brackets and the entire conversation is contained within triple backticks.\n",
    "    Your answer is a single word, either \"positive\" or \"negative\" or \"neutral\". \n",
    "    If stock market target is not mentioned in the chat set the sentiment answer to \"neutral\", \n",
    "    otherwise, please list it in chinese, stock code or code name.\n",
    "    \n",
    "    Provide above answers in JSON format with keys for three chats separated by angle brackets, respectively:\n",
    "    sentiment, stock_target.\n",
    "    And Follow the format:\n",
    "    {{\n",
    "        \"chat1\":{{\"sentiment\":..., \"stock_target\":...}},\n",
    "        \"chat2\":{{\"sentiment\":..., \"stock_target\":...}},\n",
    "        \"chat3\":{{\"sentiment\":..., \"stock_target\":...}}\n",
    "    \n",
    "    }}\n",
    "    Stock_market_chat text: <{stock_market_chat[0]}>, <{stock_market_chat[1]}>, <{stock_market_chat[2]}>\n",
    "    \"\"\"\n",
    "\n",
    "def sentiment_single_prompt(chat):\n",
    "    return f\"\"\"\n",
    "    Analyze the sentiment of the following stock market chat.\n",
    "    Chat text is enclosed within angle brackets.\n",
    "    Your answer is a single word, either \"positive\" or \"negative\" or \"neutral\". \n",
    "    If stock market target is not mentioned in the chat set the sentiment answer to \"neutral\", \n",
    "    otherwise, please list it in chinese, stock code or code name.\n",
    "    \n",
    "    Provide above answers in JSON format with keys, respectively:\n",
    "    sentiment, stock_target.\n",
    "    And Follow the format:\n",
    "    \n",
    "    {{\"sentiment\":..., \"stock_target\":...}}\n",
    "    \n",
    "    Stock_market_chat text: <{chat}>\n",
    "    \"\"\"\n",
    "\n",
    "prompt = sentiment_prompt(stock_market_chat[0])"
   ]
  },
  {
   "cell_type": "code",
   "execution_count": null,
   "id": "ac4688e8",
   "metadata": {},
   "outputs": [],
   "source": [
    "def sentiment_multiple_prompt(stock_market_chat):\n",
    "    return f\"\"\"\n",
    "    Analyze the sentiment of the following series of stock market chats.\n",
    "    Each chats accompanied by a corresponding number, \n",
    "    and the entire collection of the series chats is enclosed within triple backticks.\n",
    "    Your answer is a single word, either \"positive\" or \"negative\" or \"neutral\". \n",
    "    If stock market target is not mentioned in the chat set the sentiment answer to \"neutral\", \n",
    "    otherwise, please list it in chinese, stock code or code name.\n",
    "    \n",
    "    Provide above answers in JSON format which cloud convert to Pandas DataFrame directly with keys for the series chats separated by angle brackets, respectively:\n",
    "    sentiment, stock_target.\n",
    "    \n",
    "    And Follow the format:\n",
    "    [\n",
    "        the corresponding number :{{\"sentiment\":..., \"stock_target\":...}},\n",
    "        the corresponding number :{{\"sentiment\":..., \"stock_target\":...}},\n",
    "        the corresponding number :{{\"sentiment\":..., \"stock_target\":...}},\n",
    "        ...\n",
    "    ]\n",
    "\n",
    "    Stock_market_chat text: {stock_market_chat}\n",
    "    Please note, it is essential to adhere to the rules specified by the JSON formats and values. \n",
    "    \"\"\"\n",
    "\n",
    "prompt = sentiment_prompt2(pd.DataFrame(df.Pushes[0]).Content)\n",
    "print(prompt)"
   ]
  },
  {
   "cell_type": "code",
   "execution_count": null,
   "id": "b0f7c622",
   "metadata": {},
   "outputs": [],
   "source": []
  },
  {
   "cell_type": "code",
   "execution_count": null,
   "id": "8fcfccf1",
   "metadata": {},
   "outputs": [],
   "source": []
  },
  {
   "cell_type": "code",
   "execution_count": null,
   "id": "1f982b5e",
   "metadata": {},
   "outputs": [],
   "source": []
  },
  {
   "cell_type": "code",
   "execution_count": null,
   "id": "9695982a",
   "metadata": {},
   "outputs": [],
   "source": []
  }
 ],
 "metadata": {
  "kernelspec": {
   "display_name": "openai",
   "language": "python",
   "name": "openai"
  },
  "language_info": {
   "codemirror_mode": {
    "name": "ipython",
    "version": 3
   },
   "file_extension": ".py",
   "mimetype": "text/x-python",
   "name": "python",
   "nbconvert_exporter": "python",
   "pygments_lexer": "ipython3",
   "version": "3.9.12"
  }
 },
 "nbformat": 4,
 "nbformat_minor": 5
}
